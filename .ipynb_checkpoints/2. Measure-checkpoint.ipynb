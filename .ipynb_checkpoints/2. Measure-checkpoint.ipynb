{
 "cells": [
  {
   "cell_type": "markdown",
   "metadata": {},
   "source": [
    "# 2. Measure"
   ]
  },
  {
   "cell_type": "code",
   "execution_count": 2,
   "metadata": {},
   "outputs": [],
   "source": [
    "import pandas as pd\n",
    "import scipy.stats as stats"
   ]
  },
  {
   "cell_type": "markdown",
   "metadata": {},
   "source": [
    "### Measurement System Definition\n",
    "“Create a sample that is representative for the population”\n",
    "\n",
    "#### Data type\n",
    "Discribe the data type: Discrete (binary, count, category) or Continuous\n",
    "\n",
    "#### Stratification\n",
    "1. Stratum #1\n",
    "2. Stratum #2\n",
    "3. Stratum #3\n",
    "4. Stratum #4\n",
    "5. Stratum #5\n",
    "\n",
    "#### Randomness\n",
    "Sampling distributed randomly across time, department, people, customers, etc..."
   ]
  },
  {
   "cell_type": "markdown",
   "metadata": {},
   "source": [
    "### Sampling\n",
    "\n",
    "#### Continuous Data\n",
    "\n",
    "_calculate sample size_\n",
    "\n",
    "confidence level = 95%\n",
    "\n",
    "error ($\\bar{X} - \\mu$) = 1\n",
    "\n",
    "standard deviation ($\\sigma$) = 4\n",
    "\n",
    "calculated sample size $n = \\left(\\frac{Z_{\\alpha/2}*\\sigma}{\\left|\\bar{X}-\\mu\\right|}\\right)^2$ = 62"
   ]
  },
  {
   "cell_type": "code",
   "execution_count": 3,
   "metadata": {},
   "outputs": [],
   "source": [
    "confidence_level = 0.95\n"
   ]
  },
  {
   "cell_type": "code",
   "execution_count": 9,
   "metadata": {},
   "outputs": [],
   "source": [
    "def sample_size(confidence_level, error, standard_deviation):\n",
    "    Z = stats.norm.ppf(1-(1-confidence_level)/2)\n",
    "    \n",
    "    return ((Z * standard_deviation) / error )**2"
   ]
  },
  {
   "cell_type": "code",
   "execution_count": 10,
   "metadata": {},
   "outputs": [
    {
     "data": {
      "text/plain": [
       "61.463341131106006"
      ]
     },
     "execution_count": 10,
     "metadata": {},
     "output_type": "execute_result"
    }
   ],
   "source": [
    "sample_size(0.95, 1, 4)"
   ]
  },
  {
   "cell_type": "code",
   "execution_count": null,
   "metadata": {},
   "outputs": [],
   "source": []
  }
 ],
 "metadata": {
  "kernelspec": {
   "display_name": "Python 3",
   "language": "python",
   "name": "python3"
  },
  "language_info": {
   "codemirror_mode": {
    "name": "ipython",
    "version": 3
   },
   "file_extension": ".py",
   "mimetype": "text/x-python",
   "name": "python",
   "nbconvert_exporter": "python",
   "pygments_lexer": "ipython3",
   "version": "3.8.3"
  }
 },
 "nbformat": 4,
 "nbformat_minor": 4
}
