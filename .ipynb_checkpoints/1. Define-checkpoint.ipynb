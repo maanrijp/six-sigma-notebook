{
 "cells": [
  {
   "cell_type": "markdown",
   "metadata": {},
   "source": [
    "# 1. Define"
   ]
  },
  {
   "cell_type": "markdown",
   "metadata": {},
   "source": [
    "1. Customer Identification\n",
    "2. Customer Needs Mapping\n",
    "3. Quality Function Deployment\n",
    "4. Establish Measurement Definitions\n",
    "5. Pareto Diagram\n",
    "6. CTQ Flowdown\n",
    "7. Operational Definition\n",
    "8. SIPOC\n",
    "9. Process Map\n",
    "10. Business Case\n",
    "11. Project Charter\n",
    "12. Stakeholder Analysis\n",
    "13. Relationship Map\n",
    "14. Communication Plan\n",
    "15. Meetings\n",
    "16. Tollgate"
   ]
  },
  {
   "cell_type": "markdown",
   "metadata": {},
   "source": [
    "### 1. Customer Identification\n",
    "\n",
    "Lorem ipsum dolor sit amet, consectetur adipiscing elit. Sed quis massa non est tincidunt rutrum sit amet vel purus. Aenean varius congue leo, at tristique elit gravida eget. Lorem ipsum dolor sit amet, consectetur adipiscing elit. Nulla eu tortor libero, vel ultricies dolor. Proin nisl mi, tempor sed malesuada at, pharetra id velit. Integer dignissim placerat purus. Cras velit nibh, aliquet non hendrerit non, imperdiet eu turpis. Fusce feugiat faucibus massa a imperdiet. Aliquam sit amet dui dui, sit amet imperdiet massa. Donec consequat sodales erat vitae pretium. Class aptent taciti sociosqu ad litora torquent per conubia nostra, per inceptos himenaeos.\n",
    "\n",
    "|   Customer (group)  |   Customer Needs  |\n",
    "|---------------------|-------------------|\n",
    "|                     |                   |\n",
    "|                     |                   |\n",
    "|                     |                   |\n",
    "|                     |                   |\n",
    "|                     |                   |\n",
    "|                     |                   |\n",
    "|                     |                   |\n",
    "\n",
    "#### Main Points\n",
    "Lorem ipsum dolor sit amet, consectetur adipiscing elit. Sed quis massa non est tincidunt rutrum sit amet vel purus. Aenean varius congue leo, at tristique elit gravida eget. Lorem ipsum dolor sit amet, consectetur adipiscing elit. Nulla eu tortor libero, vel ultricies dolor. Proin nisl mi, tempor sed malesuada at, pharetra id velit. Integer dignissim placerat purus. Cras velit nibh, aliquet non hendrerit non, imperdiet eu turpis. Fusce feugiat faucibus massa a imperdiet. Aliquam sit amet dui dui, sit amet imperdiet massa. Donec consequat sodales erat vitae pretium. Class aptent taciti sociosqu ad litora torquent per conubia nostra, per inceptos himenaeos.\n",
    "\n",
    "#### External CTQ\n",
    "Lorem ipsum dolor sit amet, consectetur adipiscing elit. Sed quis massa non est tincidunt rutrum sit amet vel purus. Aenean varius congue leo, at tristique elit gravida eget. Lorem ipsum dolor sit amet, consectetur adipiscing elit. Nulla eu tortor libero, vel ultricies dolor. Proin nisl mi, tempor sed malesuada at, pharetra id velit. Integer dignissim placerat purus. Cras velit nibh, aliquet non hendrerit non, imperdiet eu turpis. Fusce feugiat faucibus massa a imperdiet. Aliquam sit amet dui dui, sit amet imperdiet massa. Donec consequat sodales erat vitae pretium. Class aptent taciti sociosqu ad litora torquent per conubia nostra, per inceptos himenaeos."
   ]
  },
  {
   "cell_type": "markdown",
   "metadata": {},
   "source": [
    "### 2. Customer Needs Mapping\n",
    "\n",
    "#### Who is the customer?\n",
    "Lorem ipsum dolor sit amet, consectetur adipiscing elit. Sed quis massa non est tincidunt rutrum sit amet vel purus. Aenean varius congue leo, at tristique elit gravida eget. Lorem ipsum dolor sit amet, consectetur adipiscing elit. Nulla eu tortor libero, vel ultricies dolor. Proin nisl mi, tempor sed malesuada at, pharetra id velit. Integer dignissim placerat purus. Cras velit nibh, aliquet non hendrerit non, imperdiet eu turpis. Fusce feugiat faucibus massa a imperdiet. Aliquam sit amet dui dui, sit amet imperdiet massa. Donec consequat sodales erat vitae pretium. Class aptent taciti sociosqu ad litora torquent per conubia nostra, per inceptos himenaeos.\n",
    "\n",
    "#### What do we deliver to the customer?\n",
    "Lorem ipsum dolor sit amet, consectetur adipiscing elit. Sed quis massa non est tincidunt rutrum sit amet vel purus. Aenean varius congue leo, at tristique elit gravida eget. Lorem ipsum dolor sit amet, consectetur adipiscing elit. Nulla eu tortor libero, vel ultricies dolor. Proin nisl mi, tempor sed malesuada at, pharetra id velit. Integer dignissim placerat purus. Cras velit nibh, aliquet non hendrerit non, imperdiet eu turpis. Fusce feugiat faucibus massa a imperdiet. Aliquam sit amet dui dui, sit amet imperdiet massa. Donec consequat sodales erat vitae pretium. Class aptent taciti sociosqu ad litora torquent per conubia nostra, per inceptos himenaeos.\n",
    "\n",
    "#### Which features of our product or service are relevant to the customer?\n",
    "Lorem ipsum dolor sit amet, consectetur adipiscing elit. Sed quis massa non est tincidunt rutrum sit amet vel purus. Aenean varius congue leo, at tristique elit gravida eget. Lorem ipsum dolor sit amet, consectetur adipiscing elit. Nulla eu tortor libero, vel ultricies dolor. Proin nisl mi, tempor sed malesuada at, pharetra id velit. Integer dignissim placerat purus. Cras velit nibh, aliquet non hendrerit non, imperdiet eu turpis. Fusce feugiat faucibus massa a imperdiet. Aliquam sit amet dui dui, sit amet imperdiet massa. Donec consequat sodales erat vitae pretium. Class aptent taciti sociosqu ad litora torquent per conubia nostra, per inceptos himenaeos.\n",
    "\n",
    "|   customer #1  |   need #1  |     |   customer #2  |   need #1  |     |   customer #3  |   need #1  |\n",
    "|----------------|------------|-----|----------------|------------|-----|----------------|------------|\n",
    "|                |   need #2  |     |                |   need #2  |     |                |   need #2  |\n",
    "|                |   need #3  |     |                |   need #3  |     |                |   need #3  |\n",
    "|                |   need #4  |     |                |   need #4  |     |                |   need #4  |\n",
    "|                |   need #5  |     |                |   need #5  |     |                |   need #5  |"
   ]
  },
  {
   "cell_type": "code",
   "execution_count": null,
   "metadata": {},
   "outputs": [],
   "source": []
  }
 ],
 "metadata": {
  "kernelspec": {
   "display_name": "Python 3",
   "language": "python",
   "name": "python3"
  },
  "language_info": {
   "codemirror_mode": {
    "name": "ipython",
    "version": 3
   },
   "file_extension": ".py",
   "mimetype": "text/x-python",
   "name": "python",
   "nbconvert_exporter": "python",
   "pygments_lexer": "ipython3",
   "version": "3.8.3"
  }
 },
 "nbformat": 4,
 "nbformat_minor": 4
}
