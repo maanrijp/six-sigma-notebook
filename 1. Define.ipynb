{
 "cells": [
  {
   "cell_type": "markdown",
   "metadata": {},
   "source": [
    "# 1. Define"
   ]
  },
  {
   "cell_type": "code",
   "execution_count": 1,
   "metadata": {},
   "outputs": [],
   "source": [
    "import pandas as pd"
   ]
  },
  {
   "cell_type": "markdown",
   "metadata": {},
   "source": [
    "1. External CTQ: Voice of the Customer\n",
    "   * Customer Identification\n",
    "   * Customer Needs Mapping\n",
    "   * Establish Measurement Definitions\n",
    "   * Quality Function Deployment\n",
    "   * Pareto Diagram\n",
    "   * CTQ Flowdown\n",
    "   * Operational Definition\n",
    "8. SIPOC\n",
    "9. Process Map\n",
    "10. Business Case\n",
    "11. Project Charter\n",
    "12. Stakeholder Analysis\n",
    "13. Relationship Map\n",
    "14. Communication Plan\n",
    "15. Meetings\n",
    "16. Tollgate"
   ]
  },
  {
   "cell_type": "markdown",
   "metadata": {},
   "source": [
    "### 1. External CTQ: Voice of the Customer\n",
    "\n",
    "Different groups of customers may have different demands and needs.\n",
    "\n",
    "|   Customer (group)  |   Customer Needs   |\n",
    "|:--------------------|:-------------------|\n",
    "| **End User**        | on time delivery   |\n",
    "|                     | fair pricing       |\n",
    "|                     | high quality       |\n",
    "| **Retailer**        | good sales margin  |\n",
    "|                     | good turnover rate |\n",
    "|                     | shelf life         |\n",
    "|                     | ...                |\n",
    "\n",
    "#### Main Points\n",
    "*what functions of our product or service are relevant to our customers?*\n",
    "\n",
    "Lorem ipsum dolor sit amet, consectetur adipiscing elit. Sed quis massa non est tincidunt rutrum sit amet vel purus. Aenean varius congue leo, at tristique elit gravida eget.\n",
    "\n",
    "*source:* \n",
    "\n",
    "#### External CTQ\n",
    "*how do those functions contribute to customer satisfaction?*\n",
    "\n",
    "Lorem ipsum dolor sit amet, consectetur adipiscing elit. Sed quis massa non est tincidunt rutrum sit amet vel purus. Aenean varius congue leo, at tristique elit gravida eget. Lorem ipsum dolor sit amet, consectetur adipiscing elit. Nulla eu tortor libero, vel ultricies dolor. Proin nisl mi, tempor sed malesuada at, pharetra id velit. Integer dignissim placerat purus. Cras velit nibh, aliquet non hendrerit non, imperdiet eu turpis. Fusce feugiat faucibus massa a imperdiet. Aliquam sit amet dui dui, sit amet imperdiet massa. Donec consequat sodales erat vitae pretium. Class aptent taciti sociosqu ad litora torquent per conubia nostra, per inceptos himenaeos."
   ]
  },
  {
   "cell_type": "markdown",
   "metadata": {},
   "source": [
    "### 3. Quality Function Deployment\n",
    "#### Approach\n",
    "1. identify what the customer needs are (external CTQ’s)\n",
    "2. rank these based on customer importance\n",
    "3. determine which functions/processes impact customer needs\n",
    "4. establish rating definitions for low, medium and high relationships\n",
    "5. rate each relationship between customer needs and company functions/processes\n",
    "6. calculate overall score of each function/process\n",
    "7. chart these ratings"
   ]
  },
  {
   "cell_type": "markdown",
   "metadata": {},
   "source": [
    "| customer needs   | rating   |   process #1 |   process #2 |   process #3 |   process #4 |   process #5 |\n",
    "|:-----------------|:---------|-------------:|-------------:|-------------:|-------------:|-------------:|\n",
    "| need #1          | 10       |            3 |            2 |            3 |            7 |            1 |\n",
    "| need #2          | 8        |            2 |            6 |            6 |            2 |            5 |\n",
    "| need #3          | 3        |            6 |            1 |            8 |            9 |            2 |\n",
    "| need #4          | 5        |            1 |            9 |            2 |            4 |            7 |\n",
    "| need #5          | 9        |            9 |            7 |            2 |            2 |            1 |\n",
    "| __score__        |          |      __150__ |      __179__ |      __130__ |      __151__ |      __100__ |"
   ]
  },
  {
   "cell_type": "code",
   "execution_count": 4,
   "metadata": {},
   "outputs": [
    {
     "name": "stdout",
     "output_type": "stream",
     "text": [
      "customer needs rating  process #1  process #2  process #3  process #4  process #5\n",
      "       need #1     10           3           2           3           7           1\n",
      "       need #2      8           2           6           6           2           5\n",
      "       need #3      3           6           1           8           9           2\n",
      "       need #4      5           1           9           2           4           7\n",
      "       need #5      9           9           7           2           2           1\n",
      "         score                150         179         130         151         100\n"
     ]
    }
   ],
   "source": [
    "QFD = pd.DataFrame({'customer needs': ['need #1', 'need #2', 'need #3', 'need #4', 'need #5'],\n",
    "                    'rating': [10, 8, 3, 5, 9],\n",
    "                    'process #1': [3, 2, 6, 1, 9],\n",
    "                    'process #2': [2, 6, 1, 9, 7],\n",
    "                    'process #3': [3, 6, 8, 2, 2],\n",
    "                    'process #4': [7, 2, 9, 4, 2],\n",
    "                    'process #5': [1, 5, 2, 7, 1],\n",
    "                   })\n",
    "QFD = QFD.append(pd.Series(['score', ''] + [(QFD['rating'] * QFD[x]).sum() for x in QFD.columns[2:]], index=QFD.columns), ignore_index=True)\n",
    "print(QFD.to_string(index=False))"
   ]
  },
  {
   "cell_type": "markdown",
   "metadata": {},
   "source": [
    "### Establish Measurement Definitions\n",
    "#### Determination of the internal CTQ\n",
    "\n",
    "If there is external CTQ data available:\n",
    "- Pareto\n",
    "- Correlation Diagram\n",
    "- CTQ Tree - CTQ Flowdown\n",
    "\n",
    "And if there is little or no data available:\n",
    "- Customer Surveys\n",
    "- QFD\n",
    "- SIPOC\n",
    "- Process Mapping"
   ]
  },
  {
   "cell_type": "markdown",
   "metadata": {},
   "source": [
    "| | |\n",
    "|:---|:---|\n",
    "|   __External CTQ__  | customer wish or wishes within the project |\n",
    "|   __Internal CTQ__  | quantified translation of the external CTQ to a measurable value expressed in DPMO |\n",
    "|   __Unit__  | the greatness ('the thing') of which the internal CTQ is the property |\n",
    "|   __Upper Specification Limit__  | the upper limit of the internal CTQ (or upper bound when there is an absolute limit) |\n",
    "|   __Lower Specification Limit__  | the lower limit of the internal CTQ (or lower bound when there is an absolute limit) |\n",
    "|   __Defect__  | the occurence when the internal CTQ has moved outside the area between the USL and LSL |\n",
    "|   __Opportunities__  | every occurence whe the internal CTQ has the opportunity to move outside the area between the USL and LSL |\n",
    "|   __Population__  | all units within the scope of the project |\n",
    "|   __Constraints__  | limitations to the project and its improvement possibilities and realisations|"
   ]
  },
  {
   "cell_type": "markdown",
   "metadata": {},
   "source": [
    "| Supplier | Input | Process | Output | Customer |\n",
    "| --- | --- | --- | --- | --- |\n",
    "||||||"
   ]
  },
  {
   "cell_type": "markdown",
   "metadata": {},
   "source": [
    "### Business Case\n",
    "\n",
    "#### Costs\n",
    "Lorem ipsum dolor sit amet, consectetur adipiscing elit. Sed quis massa non est tincidunt rutrum sit amet vel purus. Aenean varius congue leo, at tristique elit gravida eget. Lorem ipsum dolor sit amet, consectetur adipiscing elit. Nulla eu tortor libero, vel ultricies dolor. Proin nisl mi, tempor sed malesuada at, pharetra id velit. Integer dignissim placerat purus. Cras velit nibh, aliquet non hendrerit non, imperdiet eu turpis. Fusce feugiat faucibus massa a imperdiet. Aliquam sit amet dui dui, sit amet imperdiet massa. Donec consequat sodales erat vitae pretium. Class aptent taciti sociosqu ad litora torquent per conubia nostra, per inceptos himenaeos.\n",
    "\n",
    "#### Benefits\n",
    "Lorem ipsum dolor sit amet, consectetur adipiscing elit. Sed quis massa non est tincidunt rutrum sit amet vel purus. Aenean varius congue leo, at tristique elit gravida eget. Lorem ipsum dolor sit amet, consectetur adipiscing elit. Nulla eu tortor libero, vel ultricies dolor. Proin nisl mi, tempor sed malesuada at, pharetra id velit. Integer dignissim placerat purus. Cras velit nibh, aliquet non hendrerit non, imperdiet eu turpis. Fusce feugiat faucibus massa a imperdiet. Aliquam sit amet dui dui, sit amet imperdiet massa. Donec consequat sodales erat vitae pretium. Class aptent taciti sociosqu ad litora torquent per conubia nostra, per inceptos himenaeos.\n",
    "\n",
    "#### Conclusion\n",
    "Lorem ipsum dolor sit amet, consectetur adipiscing elit. Sed quis massa non est tincidunt rutrum sit amet vel purus. Aenean varius congue leo, at tristique elit gravida eget. Lorem ipsum dolor sit amet, consectetur adipiscing elit. Nulla eu tortor libero, vel ultricies dolor. Proin nisl mi, tempor sed malesuada at, pharetra id velit. Integer dignissim placerat purus. Cras velit nibh, aliquet non hendrerit non, imperdiet eu turpis. Fusce feugiat faucibus massa a imperdiet. Aliquam sit amet dui dui, sit amet imperdiet massa. Donec consequat sodales erat vitae pretium. Class aptent taciti sociosqu ad litora torquent per conubia nostra, per inceptos himenaeos.\n",
    "\n",
    "#### Payback period\n",
    "Lorem ipsum dolor sit amet, consectetur adipiscing elit. Sed quis massa non est tincidunt rutrum sit amet vel purus. Aenean varius congue leo, at tristique elit gravida eget.\n",
    "\n",
    "#### Benefit to Cost Ratio\n",
    "Lorem ipsum dolor sit amet, consectetur adipiscing elit. Sed quis massa non est tincidunt rutrum sit amet vel purus."
   ]
  },
  {
   "cell_type": "markdown",
   "metadata": {},
   "source": [
    "### Project Charter\n",
    "\n",
    "#### Process\n",
    "Lorem ipsum dolor sit amet, consectetur adipiscing elit.\n",
    "#### Problem Statement\n",
    "Lorem ipsum dolor sit amet, consectetur adipiscing elit.\n",
    "#### Goal\n",
    "Lorem ipsum dolor sit amet, consectetur adipiscing elit.\n",
    "#### Scope\n",
    "Lorem ipsum dolor sit amet, consectetur adipiscing elit.\n",
    "#### CTQ\n",
    "Lorem ipsum dolor sit amet, consectetur adipiscing elit.\n",
    "#### Operational Benefits\n",
    "Lorem ipsum dolor sit amet, consectetur adipiscing elit.\n",
    "#### Financial Benefits\n",
    "Lorem ipsum dolor sit amet, consectetur adipiscing elit."
   ]
  },
  {
   "cell_type": "markdown",
   "metadata": {},
   "source": [
    "#### Milestones\n",
    "|   Milestone  |   Date  |\n",
    "|--------------|---------|\n",
    "|   Define     |         |\n",
    "|   Measure    |         |\n",
    "|   Analyse    |         |\n",
    "|   Improve    |         |\n",
    "|   Control    |         |"
   ]
  },
  {
   "cell_type": "markdown",
   "metadata": {},
   "source": [
    "#### Organisation\n",
    "|   Function                 |   Name  |\n",
    "|----------------------------|---------|\n",
    "|   Champion                 |         |\n",
    "|   Process Owner            |         |\n",
    "|   Green Belt - Black Belt  |         |\n",
    "|   Project Team             |         |"
   ]
  },
  {
   "attachments": {},
   "cell_type": "markdown",
   "metadata": {},
   "source": [
    "#### Stakeholder Analysis\n",
    "|   Stakeholder     |   Power  |   Interest  |   Relationship Type  |   Influence  |   Score  |\n",
    "|-------------------|----------|-------------|----------------------|--------------|----------|\n",
    "|   Stakeholder #1  |          |             |                      |              |   0      |\n",
    "|   Stakeholder #2  |          |             |                      |              |   0      |\n",
    "|   Stakeholder #3  |          |             |                      |              |   0      |\n",
    "|   Stakeholder #4  |          |             |                      |              |   0      |\n",
    "|   Stakeholder #5  |          |             |                      |              |   0      |"
   ]
  },
  {
   "cell_type": "markdown",
   "metadata": {},
   "source": [
    "#### Communication Plan\n",
    "|   ID  |   Stakeholder  |   Action  |\n",
    "|-------|----------------|-----------|\n",
    "|   1   |                |           |\n",
    "|   2   |                |           |\n",
    "|   3   |                |           |\n",
    "|   4   |                |           |\n",
    "|   5   |                |           |\n",
    "|   6   |                |           |\n",
    "|   7   |                |           |\n",
    "|   8   |                |           |\n",
    "|   9   |                |           |\n",
    "|   10  |                |           |"
   ]
  },
  {
   "attachments": {},
   "cell_type": "markdown",
   "metadata": {},
   "source": [
    "#### Meetings\n",
    "|   ID  |   Meeting  |   Participants  |   Goal  |   Frequency  |\n",
    "|-------|------------|-----------------|---------|--------------|\n",
    "|   1   |            |                 |         |              |\n",
    "|   2   |            |                 |         |              |\n",
    "|   3   |            |                 |         |              |\n",
    "|   4   |            |                 |         |              |\n",
    "|   5   |            |                 |         |              |\n",
    "|   6   |            |                 |         |              |\n",
    "|   7   |            |                 |         |              |\n",
    "|   8   |            |                 |         |              |\n",
    "|   9   |            |                 |         |              |\n",
    "|   10  |            |                 |         |              |"
   ]
  },
  {
   "cell_type": "markdown",
   "metadata": {},
   "source": [
    "### Tollgate\n",
    "\n",
    "|   Deliverables Lean Six Sigma     |                                        |     |\n",
    "|-----------------------------------|----------------------------------------|-----|\n",
    "|                                   |   Identification of all the customers  |     |\n",
    "|                                   |   Determine the customer needs         |     |\n",
    "|                                   |   Operationalised project              |     |\n",
    "|                                   |   Value Stream Map / Process Map       |     |\n",
    "|                                   |   SIPOC                                |     |\n",
    "|                                   |   Business Case                        |     |\n",
    "\n",
    "|   Deliverables Projectmanagement  |                                        |     |\n",
    "|-----------------------------------|----------------------------------------|-----|\n",
    "|                                   |   Project Charter                      |     |\n",
    "|                                   |   Team selection & meeting structure   |     |\n",
    "|                                   |   Detail Planning                      |     |\n",
    "|                                   |   Kick-Off                             |     |\n",
    "|                                   |   Stakeholder Analysis                 |     |"
   ]
  },
  {
   "cell_type": "code",
   "execution_count": null,
   "metadata": {},
   "outputs": [],
   "source": []
  }
 ],
 "metadata": {
  "kernelspec": {
   "display_name": "Python 3",
   "language": "python",
   "name": "python3"
  },
  "language_info": {
   "codemirror_mode": {
    "name": "ipython",
    "version": 3
   },
   "file_extension": ".py",
   "mimetype": "text/x-python",
   "name": "python",
   "nbconvert_exporter": "python",
   "pygments_lexer": "ipython3",
   "version": "3.8.3"
  }
 },
 "nbformat": 4,
 "nbformat_minor": 4
}
